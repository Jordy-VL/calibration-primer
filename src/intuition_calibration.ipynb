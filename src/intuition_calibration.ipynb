{
 "cells": [
  {
   "attachments": {},
   "cell_type": "markdown",
   "metadata": {},
   "source": [
    "# Intuition on calibration and failure prediction\n",
    "\n",
    "This notebooks contains examples of how to use the calibration and failure prediction modules.\n",
    "We measure metrics of interest on:\n",
    "- CIFAR-10 ResNet-18\n",
    "- RVL-CDIP LayoutLMv3\n",
    "- Running example from the [presentation](https://www.cvc.uab.es/blog/2023/06/30/jordy-van-landeghem-cvc-seminar/) \n",
    "\n",
    "We use the following metrics:\n",
    "- Accuracy\n",
    "- F1 score (micro,macro)\n",
    "- ECE\n",
    "- Brier score\n",
    "- Negative Loglikelihood\n",
    "- AURC\n",
    "\n",
    "We test the influence of a popular calibration method (Temperature Scaling) on the metrics of interest"
   ]
  },
  {
   "cell_type": "code",
   "execution_count": 18,
   "metadata": {},
   "outputs": [],
   "source": [
    "%load_ext autoreload\n",
    "%autoreload 2"
   ]
  },
  {
   "cell_type": "code",
   "execution_count": null,
   "metadata": {},
   "outputs": [],
   "source": [
    "## necessary installs\n",
    "!pip3 install numpy\n",
    "!pip3 install scipy\n",
    "!pip3 install scikit-learn\n",
    "!pip3 install matplotlib\n",
    "!pip3 install pandas\n",
    "!pip3 install seaborn"
   ]
  },
  {
   "attachments": {},
   "cell_type": "markdown",
   "metadata": {},
   "source": [
    "## Measuring calibration on CIFAR-10\n"
   ]
  },
  {
   "cell_type": "code",
   "execution_count": 2,
   "metadata": {},
   "outputs": [],
   "source": [
    "\"\"\"\n",
    "This testing script loads actual probabilisitic predictions from a resnet finetuned on CIFAR\n",
    "\n",
    "There are a number of logits-groundtruth pickles available @ https://github.com/markus93/NN_calibration/tree/master/logits\n",
    "[Seems to have moved from Git-LFS to sharepoint]\n",
    "https://tartuulikool-my.sharepoint.com/:f:/g/personal/markus93_ut_ee/EmW0xbhcic5Ou0lRbTrySOUBF2ccSsN7lo6lvSfuG1djew?e=l0TErb\n",
    "\n",
    "See https://github.com/markus93/NN_calibration/blob/master/logits/Readme.txt to decode the [model_dataset] filenames\n",
    "\n",
    "As a bonus, one could consider temperature scaling and measuring after calibration.\n",
    "\"\"\"\n",
    "import numpy as np\n",
    "from scipy.special import softmax\n",
    "import pickle\n",
    "from sklearn.model_selection import train_test_split\n",
    "\n",
    "\n",
    "# Open file with pickled variables\n",
    "def unpickle_probs(file, verbose=0, normalize=False):\n",
    "    with open(file, \"rb\") as f:  # Python 3: open(..., 'rb')\n",
    "        y1, y2 = pickle.load(f)  # unpickle the content\n",
    "\n",
    "    if isinstance(y1, tuple):\n",
    "        y_probs_val, y_val = y1\n",
    "        y_probs_test, y_test = y2\n",
    "    else:\n",
    "        y_probs_val, y_probs_test, y_val, y_test = train_test_split(\n",
    "            y1, y2.reshape(-1, 1), test_size=len(y2) - 5000, random_state=15\n",
    "        )  # Splits the data in the ca%load_ext autoreload\n",
    "\n",
    "    if normalize:\n",
    "        y_probs_val = softmax(y_probs_val, -1)\n",
    "        y_probs_test = softmax(y_probs_test, -1)\n",
    "\n",
    "    if verbose:\n",
    "        print(\"y_probs_val:\", y_probs_val.shape)  # (5000, 10); Validation set probabilities of predictions\n",
    "        print(\"y_true_val:\", y_val.shape)  # (5000, 1); Validation set true labels\n",
    "        print(\"y_probs_test:\", y_probs_test.shape)  # (10000, 10); Test set probabilities\n",
    "        print(\"y_true_test:\", y_test.shape)  # (10000, 1); Test set true labels\n",
    "\n",
    "    return ((y_probs_val, y_val.ravel()), (y_probs_test, y_test.ravel()))"
   ]
  },
  {
   "cell_type": "code",
   "execution_count": 3,
   "metadata": {},
   "outputs": [
    {
     "name": "stdout",
     "output_type": "stream",
     "text": [
      "y_probs_val: (5000, 10)\n",
      "y_true_val: (5000, 1)\n",
      "y_probs_test: (10000, 10)\n",
      "y_true_test: (10000, 1)\n",
      "'tuple' object has no attribute 'ndim'\n",
      "{\n",
      "    \"accuracy\": 0.9356,\n",
      "    \"brier_loss\": 0.11018865559514414,\n",
      "    \"nll\": 1.0624524426782735,\n",
      "    \"f1_micro\": 0.9356,\n",
      "    \"f1_macro\": 0.9356251148224297,\n",
      "    \"ece\": 0.05030814408063887\n",
      "}\n"
     ]
    },
    {
     "data": {
      "text/plain": [
       "OrderedDict([('accuracy', 0.9356),\n",
       "             ('brier_loss', 0.11018865559514414),\n",
       "             ('nll', 1.0624524426782735),\n",
       "             ('f1_micro', 0.9356),\n",
       "             ('f1_macro', 0.9356251148224297),\n",
       "             ('ece', 0.05030814408063887)])"
      ]
     },
     "execution_count": 3,
     "metadata": {},
     "output_type": "execute_result"
    }
   ],
   "source": [
    "import json\n",
    "from collections import OrderedDict\n",
    "from metrics import accuracy, brier_loss, nll, f1_micro, f1_macro, aurc_logits, ece_logits  # AUROC_logits\n",
    "\n",
    "METRICS = [accuracy, brier_loss, nll, f1_micro, f1_macro, ece_logits, aurc_logits]\n",
    "\n",
    "\n",
    "def apply_metrics(y_true, y_probs, metrics=METRICS):\n",
    "    predictive_performance = OrderedDict()\n",
    "    for metric in metrics:\n",
    "        try:\n",
    "            predictive_performance[f\"{metric.__name__.replace('_logits', '')}\"] = metric(y_true, y_probs)\n",
    "        except Exception as e:\n",
    "            print(e)\n",
    "    print(json.dumps(predictive_performance, indent=4))\n",
    "    return predictive_performance\n",
    "\n",
    "\n",
    "(p_val, y_val), (p_test, y_test) = unpickle_probs(\"../data/resnet110_c10_logits.p\", verbose=1)\n",
    "apply_metrics(y_test, p_test)"
   ]
  },
  {
   "attachments": {},
   "cell_type": "markdown",
   "metadata": {},
   "source": [
    "## Temperature scaling"
   ]
  },
  {
   "cell_type": "code",
   "execution_count": 4,
   "metadata": {},
   "outputs": [
    {
     "name": "stdout",
     "output_type": "stream",
     "text": [
      "Before temperature - NLL: 0.300164, ECE: 0.041423\n",
      "Optimal temperature: 2.395011\n",
      "After temperature - NLL: 0.180504, ECE: 0.014528\n",
      "{\n",
      "    \"accuracy\": 0.9356,\n",
      "    \"brier_loss\": 0.09785229635106264,\n",
      "    \"nll\": 0.20926126178358137,\n",
      "    \"f1_micro\": 0.9356,\n",
      "    \"f1_macro\": 0.9356251148224297,\n",
      "    \"ece\": 0.015742955222725875,\n",
      "    \"aurc\": 0.008571372340797141\n",
      "}\n"
     ]
    },
    {
     "data": {
      "text/plain": [
       "OrderedDict([('accuracy', 0.9356),\n",
       "             ('brier_loss', 0.09785229635106264),\n",
       "             ('nll', 0.20926126178358137),\n",
       "             ('f1_micro', 0.9356),\n",
       "             ('f1_macro', 0.9356251148224297),\n",
       "             ('ece', 0.015742955222725875),\n",
       "             ('aurc', 0.008571372340797141)])"
      ]
     },
     "execution_count": 4,
     "metadata": {},
     "output_type": "execute_result"
    }
   ],
   "source": [
    "from generic_scaling import TemperatureScaler  # TODO: switch to using our metrics [on logits]\n",
    "\n",
    "T = (\n",
    "    TemperatureScaler()\n",
    ")  # DEV: OLD implementation so metric implementations/values might not be similar; use apply_metrics for final verdict :)\n",
    "T.fit(y_val, p_val)\n",
    "scaled_logits = T.transform(p_test)\n",
    "apply_metrics(y_test, scaled_logits)"
   ]
  },
  {
   "attachments": {},
   "cell_type": "markdown",
   "metadata": {},
   "source": [
    "## Measuring calibration metrics on a classic DU task"
   ]
  },
  {
   "cell_type": "code",
   "execution_count": 5,
   "metadata": {},
   "outputs": [],
   "source": [
    "import os, json\n",
    "import numpy as np\n",
    "import pandas as pd\n",
    "\n",
    "\n",
    "def load_json(file_path):\n",
    "    with open(file_path, \"r\") as json_file:\n",
    "        data = json.load(json_file)\n",
    "    return data\n",
    "\n",
    "\n",
    "checkpoint_dir = \"../data/EElayoutlmv3_jordyvl_rvl_cdip_easyocr_2023-05-16-rvl_cdip_easyocr\"\n",
    "config = load_json(os.path.join(checkpoint_dir, \"config.json\"))\n",
    "references = np.load(os.path.join(checkpoint_dir, \"references.npz\"))[\"arr_0\"]\n",
    "exit_logits = np.load(os.path.join(checkpoint_dir, \"exit_logits.npz\"))[\"arr_0\"] #special case of multi-exit network\n",
    "N = len(references)"
   ]
  },
  {
   "cell_type": "code",
   "execution_count": 6,
   "metadata": {},
   "outputs": [
    {
     "name": "stdout",
     "output_type": "stream",
     "text": [
      "'tuple' object has no attribute 'ndim'\n",
      "{\n",
      "    \"accuracy\": 0.9273731843296082,\n",
      "    \"brier_loss\": 0.10950648262058199,\n",
      "    \"nll\": 1.1471342902044355,\n",
      "    \"f1_micro\": 0.9273731843296082,\n",
      "    \"f1_macro\": 0.9272251515033926,\n",
      "    \"ece\": 0.026558899547747414\n",
      "}\n",
      "\\begin{tabular}{lr}\n",
      "\\toprule\n",
      "{} &  layoutlmv3\\_rvlcdip \\\\\n",
      "\\midrule\n",
      "accuracy   &            0.927373 \\\\\n",
      "brier\\_loss &            0.109506 \\\\\n",
      "nll        &            1.147134 \\\\\n",
      "f1\\_micro   &            0.927373 \\\\\n",
      "f1\\_macro   &            0.927225 \\\\\n",
      "ece        &            0.026559 \\\\\n",
      "\\bottomrule\n",
      "\\end{tabular}\n",
      "\n"
     ]
    }
   ],
   "source": [
    "# classifier\n",
    "layoutlmv3_rvlcdip = apply_metrics(references, exit_logits[-1])\n",
    "\n",
    "df = pd.DataFrame.from_dict(\n",
    "    layoutlmv3_rvlcdip, orient=\"index\", columns=[\"layoutlmv3_rvlcdip\"]\n",
    ")  \n",
    "print(df.to_latex())"
   ]
  },
  {
   "attachments": {},
   "cell_type": "markdown",
   "metadata": {},
   "source": [
    "# Running calibration example\n",
    "\n",
    "#### The original data comes from [Gupta & Ramdas 2021](https://openreview.net/pdf?id=WqoBaaPHS-)"
   ]
  },
  {
   "cell_type": "code",
   "execution_count": 7,
   "metadata": {},
   "outputs": [],
   "source": [
    "import numpy as np\n",
    "\n",
    "f = np.array(\n",
    "    [\n",
    "        [0.1, 0.0, 0.6, 0.3],\n",
    "        [0.6, 0.0, 0.1, 0.3],\n",
    "        [0.2, 0.7, 0.0, 0.1],\n",
    "        [0.0, 0.1, 0.1, 0.8],\n",
    "        [0.0, 0.1, 0.8, 0.1],\n",
    "        [0.9, 0.1, 0.0, 0.0],\n",
    "    ]\n",
    ")\n",
    "\n",
    "confidence = np.array([[0.6, 0.6, 0.7, 0.8, 0.8, 0.9]])\n",
    "\n",
    "predicted_y = np.array([3, 1, 2, 4, 3, 1])\n",
    "correct_y = np.array([3, 4, 2, 1, 4, 1])\n",
    "y_correct = correct_y - 1  # 0-indexing"
   ]
  },
  {
   "attachments": {},
   "cell_type": "markdown",
   "metadata": {},
   "source": [
    "## manual calculation of L1-CE\n",
    "* basic structure: |I[y==^y| - ^p\n",
    "* poor statistical approximation since 1 sample per unique continuous value (cannot scale to every unique value and current over-estimation) -> discretization required\n"
   ]
  },
  {
   "cell_type": "code",
   "execution_count": 8,
   "metadata": {},
   "outputs": [
    {
     "data": {
      "text/plain": [
       "0.5000000000000001"
      ]
     },
     "execution_count": 8,
     "metadata": {},
     "output_type": "execute_result"
    }
   ],
   "source": [
    "manual_ce = (\n",
    "    abs((3 == 3) - 0.6)\n",
    "    + abs((4 == 1) - 0.6)\n",
    "    + abs((2 == 2) - 0.7)\n",
    "    + abs((1 == 4) - 0.8)\n",
    "    + abs((4 == 3) - 0.8)\n",
    "    + abs((1 == 1) - 0.9)\n",
    ") / 6\n",
    "manual_ce"
   ]
  },
  {
   "attachments": {},
   "cell_type": "markdown",
   "metadata": {},
   "source": [
    "## ECE with equal range binning"
   ]
  },
  {
   "cell_type": "code",
   "execution_count": 9,
   "metadata": {},
   "outputs": [
    {
     "name": "stdout",
     "output_type": "stream",
     "text": [
      "bin_confidence: [0.  0.  0.  0.  0.  0.6 0.7 0.  0.8 0.9] - bin_accuracy: [0.  0.  0.  0.  0.  0.5 1.  0.  0.  1. ] - bin_counts: [0. 0. 0. 0. 0. 2. 1. 0. 2. 1.]\n",
      "Expected Calibration Error (ECE): 0.36666666666666664\n"
     ]
    }
   ],
   "source": [
    "# Number of bins\n",
    "num_bins = 10\n",
    "\n",
    "# Calculate bin boundaries\n",
    "bin_boundaries = np.linspace(0.0, 1.0, num_bins + 1)\n",
    "\n",
    "# Initialize variables for ECE calculation\n",
    "bin_confidence = np.zeros(num_bins)\n",
    "bin_accuracy = np.zeros(num_bins)\n",
    "bin_counts = np.zeros(num_bins)\n",
    "\n",
    "# Assign predictions to bins and calculate confidence and accuracy\n",
    "for i in range(num_bins):\n",
    "    mask = np.logical_and(confidence >= bin_boundaries[i], confidence < bin_boundaries[i + 1])[0]\n",
    "    if not any(mask):  # empty bin\n",
    "        continue\n",
    "    bin_confidence[i] = np.nanmean(confidence[:, mask])\n",
    "    bin_accuracy[i] = np.nanmean(correct_y[mask] == predicted_y[mask])\n",
    "    bin_counts[i] = np.nansum(mask)\n",
    "\n",
    "print(f\"bin_confidence: {bin_confidence} - bin_accuracy: {bin_accuracy} - bin_counts: {bin_counts}\")\n",
    "# Calculate ECE\n",
    "ece = np.sum(bin_counts / np.sum(bin_counts) * np.abs(bin_accuracy - bin_confidence))\n",
    "\n",
    "print(\"Expected Calibration Error (ECE):\", ece)"
   ]
  },
  {
   "attachments": {},
   "cell_type": "markdown",
   "metadata": {},
   "source": [
    "## ECE with equal mass binning"
   ]
  },
  {
   "cell_type": "code",
   "execution_count": 10,
   "metadata": {},
   "outputs": [
    {
     "name": "stdout",
     "output_type": "stream",
     "text": [
      "bin_confidence: [0.6 0.  0.7 0.  0.8 0.  0.  0.  0.  0. ] - bin_accuracy: [0.5 0.  1.  0.  0.  0.  0.  0.  0.  0. ] - bin_counts: [2. 0. 1. 0. 2. 0. 0. 0. 0. 0.]\n",
      "Expected Calibration Error (ECE): 0.42000000000000004\n"
     ]
    }
   ],
   "source": [
    "# Calculate bin boundaries for equal-mass binning (skipping equal boundaries)\n",
    "## for unbiased estimation, require to create equal mass bins on holdout set different from set on which we measure ECE\n",
    "percentiles = np.linspace(0, 100, num_bins + 1)\n",
    "bin_boundaries = np.percentile(confidence, percentiles)\n",
    "bin_boundaries = np.unique(bin_boundaries)\n",
    "\n",
    "# Initialize variables for ECE calculation\n",
    "bin_confidence = np.zeros(num_bins)\n",
    "bin_accuracy = np.zeros(num_bins)\n",
    "bin_counts = np.zeros(num_bins)\n",
    "\n",
    "# Assign predictions to bins and calculate confidence and accuracy\n",
    "for i in range(len(bin_boundaries) - 1):\n",
    "    mask = np.logical_and(confidence >= bin_boundaries[i], confidence < bin_boundaries[i + 1])[0]\n",
    "    if not any(mask):  # empty bin\n",
    "        continue\n",
    "    bin_confidence[i] = np.nanmean(confidence[:, mask])\n",
    "    bin_accuracy[i] = np.nanmean(correct_y[mask] == predicted_y[mask])\n",
    "    bin_counts[i] = np.nansum(mask)\n",
    "\n",
    "print(f\"bin_confidence: {bin_confidence} - bin_accuracy: {bin_accuracy} - bin_counts: {bin_counts}\")\n",
    "# Calculate ECE\n",
    "ece = np.sum(bin_counts / np.sum(bin_counts) * np.abs(bin_accuracy - bin_confidence))\n",
    "\n",
    "print(\"Expected Calibration Error (ECE):\", ece)"
   ]
  },
  {
   "attachments": {},
   "cell_type": "markdown",
   "metadata": {},
   "source": [
    "## Customizable ECE estimator"
   ]
  },
  {
   "cell_type": "code",
   "execution_count": 11,
   "metadata": {},
   "outputs": [
    {
     "name": "stdout",
     "output_type": "stream",
     "text": [
      "{'ECE': 0.37666667302449547, 'y_bar': array([0.60000002, 0.63000002, 0.66000001, 0.69000001, 0.72      ,\n",
      "       0.75      , 0.78      , 0.80999999, 0.83999999, 0.86999998,\n",
      "       0.89999998]), 'p_bar': array([nan, 0.5, nan, nan, 1. , nan, nan, 0. , nan, nan, 1. ]), 'bin_freq': array([2, 1, 2, 1]), 'p_bar_cont': 0.73333335, 'accuracy': 0.5}\n"
     ]
    }
   ],
   "source": [
    "import evaluate\n",
    "\n",
    "metric = evaluate.load(\"jordyvl/ece\")\n",
    "kwargs = dict(\n",
    "    n_bins=10,\n",
    "    scheme=\"equal-range\",\n",
    "    bin_range=None,\n",
    "    proxy=\"upper-edge\",\n",
    "    p=1,\n",
    "    detail=True,\n",
    ")\n",
    "\n",
    "# API for entry -> zero-indexing and full samples from probability simplex\n",
    "results = metric.compute(references=y_correct, predictions=f, **kwargs)\n",
    "print(results)"
   ]
  },
  {
   "attachments": {},
   "cell_type": "markdown",
   "metadata": {},
   "source": [
    "## Testing the influence of temperature scaling\n",
    "### simulate two classifiers with equal accuracy and ECE\n"
   ]
  },
  {
   "cell_type": "code",
   "execution_count": 12,
   "metadata": {},
   "outputs": [
    {
     "name": "stdout",
     "output_type": "stream",
     "text": [
      "Before temperature - NLL: 1.250760, ECE: 0.286734\n",
      "Optimal temperature: 0.563997\n",
      "After temperature - NLL: 1.218173, ECE: 0.281184\n",
      "[[0.17575181 0.1471963  0.42649541 0.25055648]\n",
      " [0.42649541 0.1471963  0.17575181 0.25055648]\n",
      " [0.20138306 0.48869454 0.14125932 0.16866308]\n",
      " [0.13300191 0.15880377 0.15880377 0.54939055]\n",
      " [0.13300191 0.15880377 0.54939055 0.15880377]\n",
      " [0.6069427  0.14693471 0.1230613  0.1230613 ]] 0.5639974842995397\n"
     ]
    }
   ],
   "source": [
    "import numpy as np\n",
    "\n",
    "# fixed predictions\n",
    "predicted_y = np.array([3, 1, 2, 4, 3, 1])\n",
    "correct_y = np.array([3, 4, 2, 1, 4, 1])\n",
    "y_correct = correct_y - 1  # 0-indexing\n",
    "\n",
    "f1 = np.array(\n",
    "    [\n",
    "        [0.1, 0.0, 0.6, 0.3],\n",
    "        [0.6, 0.0, 0.1, 0.3],\n",
    "        [0.2, 0.7, 0.0, 0.1],\n",
    "        [0.0, 0.1, 0.1, 0.8],\n",
    "        [0.0, 0.1, 0.8, 0.1],\n",
    "        [0.9, 0.1, 0.0, 0.0],\n",
    "    ]\n",
    ")\n",
    "\n",
    "c1 = np.array([0.6, 0.6, 0.7, 0.8, 0.8, 0.9])\n",
    "\n",
    "\n",
    "from generic_scaling import TemperatureScaler  # switch to using our metrics [on logits]\n",
    "\n",
    "T = TemperatureScaler()\n",
    "T.fit(y_correct, f1)\n",
    "optimal_temperature = T.temperature.item()\n",
    "scaled_f = T.transform(f1)\n",
    "print(scaled_f, optimal_temperature)"
   ]
  },
  {
   "cell_type": "code",
   "execution_count": 13,
   "metadata": {},
   "outputs": [
    {
     "data": {
      "text/plain": [
       "(array([0.6, 0.6, 0.7, 0.8, 0.8, 0.9]),\n",
       " array([0.55161944, 0.55161944, 0.63375697, 0.72520043, 0.72520043,\n",
       "        0.85293136]),\n",
       " array([0.47120526, 0.3877564 , 0.38271506, 0.52941715, 0.55366495,\n",
       "        0.26734813]),\n",
       " array([0.7826087 , 0.7826087 , 0.90740741, 0.96969697, 0.96969697,\n",
       "        0.98780488]),\n",
       " array([0.740997  , 0.77648361, 0.90427748, 0.95613913, 0.81401324,\n",
       "        0.96939783]))"
      ]
     },
     "execution_count": 13,
     "metadata": {},
     "output_type": "execute_result"
    }
   ],
   "source": [
    "eps = 1e-12\n",
    "\n",
    "\n",
    "def softmax(x, axis=-1):\n",
    "    # Subtract the maximum value for numerical stability\n",
    "    x = x - np.max(x, axis=axis, keepdims=True)\n",
    "\n",
    "    # Compute the exponentials of the shifted input\n",
    "    exps = np.exp(x)\n",
    "\n",
    "    # Compute the sum of exponentials along the last axis\n",
    "    exps_sum = np.sum(exps, axis=axis, keepdims=True)\n",
    "\n",
    "    # Compute the softmax probabilities\n",
    "    softmax_probs = exps / exps_sum\n",
    "\n",
    "    return softmax_probs\n",
    "\n",
    "\n",
    "def posterior_tempering(probs, T=1, randomized_temperature=False):\n",
    "    \"\"\"\n",
    "    if randomized_temperature, T is the max temperature\n",
    "    DEV: still a monotonic transformation? Guess not :)\n",
    "    \"\"\"\n",
    "    start = eps if T < 1 else 1\n",
    "    T = np.ones(len(probs)) * T\n",
    "    if randomized_temperature:\n",
    "        T = np.random.uniform(start, T, len(probs))\n",
    "    probs = np.log(np.clip(probs, eps, 1 - eps))  # all above eps -> remove\n",
    "    return softmax(probs * T[:, None], axis=-1)\n",
    "\n",
    "\n",
    "f2 = posterior_tempering(f1, T=0.8)\n",
    "c2 = np.max(f2, axis=-1)\n",
    "\n",
    "f3 = posterior_tempering(f1, T=0.8, randomized_temperature=True)\n",
    "c3 = np.max(f3, axis=-1)\n",
    "\n",
    "f4 = posterior_tempering(f1, T=2)\n",
    "c4 = np.max(f4, axis=-1)\n",
    "\n",
    "f5 = posterior_tempering(f1, T=2, randomized_temperature=True)\n",
    "c5 = np.max(f5, axis=-1)\n",
    "\n",
    "c1, c2, c3, c4, c5"
   ]
  },
  {
   "cell_type": "code",
   "execution_count": 14,
   "metadata": {},
   "outputs": [
    {
     "name": "stdout",
     "output_type": "stream",
     "text": [
      "[1 2 3 4 5 6]\n"
     ]
    },
    {
     "name": "stderr",
     "output_type": "stream",
     "text": [
      "<ipython-input-14-ddc99653cb8c>:23: UserWarning: FixedFormatter should only be used together with FixedLocator\n",
      "  ax.set_xticklabels([\"\", \"i\", \"ii\", \"iii\", \"iv\", \"v\", \"vi\"])\n"
     ]
    },
    {
     "data": {
      "text/plain": [
       "<Figure size 720x432 with 0 Axes>"
      ]
     },
     "metadata": {},
     "output_type": "display_data"
    },
    {
     "data": {
      "image/png": "[encoded data removed]",
      "text/plain": [
       "<Figure size 432x288 with 1 Axes>"
      ]
     },
     "metadata": {
      "needs_background": "light"
     },
     "output_type": "display_data"
    },
    {
     "data": {
      "text/plain": [
       "<Figure size 432x288 with 0 Axes>"
      ]
     },
     "metadata": {},
     "output_type": "display_data"
    }
   ],
   "source": [
    "import matplotlib.pyplot as plt\n",
    "\n",
    "\n",
    "# Create x-axis values\n",
    "x = np.arange(1, len(c1) + 1)\n",
    "print(x)\n",
    "\n",
    "# Plot the probability distributions\n",
    "plt.figure(figsize=(10, 6))\n",
    "fig, ax = plt.subplots(1, 1)\n",
    "\n",
    "plt.plot(x, c1, label=\"Original\")\n",
    "plt.plot(x, c2, label=\"T=0.8\")\n",
    "plt.plot(x, c3, label=\"T=[0,0.8]\")\n",
    "plt.plot(x, c4, label=\"T=2\")\n",
    "plt.plot(x, c5, label=\"T=[1,2]\")\n",
    "\n",
    "\n",
    "# Set plot title and labels\n",
    "plt.title(\"Probability Distributions\")\n",
    "plt.xlabel(\"x\")\n",
    "plt.ylabel(\"Probability\")\n",
    "ax.set_xticklabels([\"\", \"i\", \"ii\", \"iii\", \"iv\", \"v\", \"vi\"])\n",
    "\n",
    "# Set legend and grid\n",
    "plt.legend()\n",
    "plt.grid(True)\n",
    "\n",
    "# Show the plot\n",
    "plt.show()\n",
    "plt.savefig(\"probabilities tempering.png\")"
   ]
  },
  {
   "cell_type": "code",
   "execution_count": 15,
   "metadata": {},
   "outputs": [
    {
     "name": "stdout",
     "output_type": "stream",
     "text": [
      "{\n",
      "    \"accuracy\": 0.5,\n",
      "    \"brier_loss\": 0.7333333333333333,\n",
      "    \"nll\": 6.503032562598869,\n",
      "    \"f1_micro\": 0.5,\n",
      "    \"f1_macro\": 0.5416666666666666,\n",
      "    \"ece\": 0.39999998609224957,\n",
      "    \"aurc\": 0.4833333333333333\n",
      "}\n",
      "{\n",
      "    \"accuracy\": 0.5,\n",
      "    \"brier_loss\": 0.7014934828531983,\n",
      "    \"nll\": 4.431991197590558,\n",
      "    \"f1_micro\": 0.5,\n",
      "    \"f1_macro\": 0.5416666666666666,\n",
      "    \"ece\": 0.3746960560480754,\n",
      "    \"aurc\": 0.41944444444444445\n",
      "}\n",
      "{\n",
      "    \"accuracy\": 0.5,\n",
      "    \"brier_loss\": 0.7877025048930953,\n",
      "    \"nll\": 2.8235275120135603,\n",
      "    \"f1_micro\": 0.5,\n",
      "    \"f1_macro\": 0.5416666666666666,\n",
      "    \"ece\": 0.6208302726348242,\n",
      "    \"aurc\": 0.6277777777777777\n",
      "}\n",
      "{\n",
      "    \"accuracy\": 0.5,\n",
      "    \"brier_loss\": 0.8686460218982747,\n",
      "    \"nll\": 6.785734042528073,\n",
      "    \"f1_micro\": 0.5,\n",
      "    \"f1_macro\": 0.5416666666666666,\n",
      "    \"ece\": 0.47012126445770264,\n",
      "    \"aurc\": 0.4833333333333333\n",
      "}\n",
      "{\n",
      "    \"accuracy\": 0.5,\n",
      "    \"brier_loss\": 0.7980645307188348,\n",
      "    \"nll\": 6.4923436225312585,\n",
      "    \"f1_micro\": 0.5,\n",
      "    \"f1_macro\": 0.5416666666666666,\n",
      "    \"ece\": 0.49251097440719604,\n",
      "    \"aurc\": 0.3638888888888889\n",
      "}\n",
      "{\n",
      "    \"accuracy\": 0.5,\n",
      "    \"brier_loss\": 0.6589041493114376,\n",
      "    \"nll\": 1.2181734821309156,\n",
      "    \"f1_micro\": 0.5,\n",
      "    \"f1_macro\": 0.5416666666666666,\n",
      "    \"ece\": 0.2811842958132426,\n",
      "    \"aurc\": 0.42777777777777776\n",
      "}\n",
      "\\begin{tabular}{lrrrrrr}\n",
      "\\toprule\n",
      "{} &  f1: Original &  f2: T=0.8 &  f3: T=[0,0.8] &   f4: T=2 &  f5: T=[1,2] &     T opt \\\\\n",
      "\\midrule\n",
      "accuracy   &      0.500000 &   0.500000 &       0.500000 &  0.500000 &     0.500000 &  0.500000 \\\\\n",
      "brier\\_loss &      0.733333 &   0.701493 &       0.787703 &  0.868646 &     0.798065 &  0.658904 \\\\\n",
      "nll        &      6.503033 &   4.431991 &       2.823528 &  6.785734 &     6.492344 &  1.218173 \\\\\n",
      "f1\\_micro   &      0.500000 &   0.500000 &       0.500000 &  0.500000 &     0.500000 &  0.500000 \\\\\n",
      "f1\\_macro   &      0.541667 &   0.541667 &       0.541667 &  0.541667 &     0.541667 &  0.541667 \\\\\n",
      "ece        &      0.400000 &   0.374696 &       0.620830 &  0.470121 &     0.492511 &  0.281184 \\\\\n",
      "aurc       &      0.483333 &   0.419444 &       0.627778 &  0.483333 &     0.363889 &  0.427778 \\\\\n",
      "ECE eqr    &      0.300000 &   0.366667 &       0.433333 &  0.433333 &     0.416667 &       NaN \\\\\n",
      "\\bottomrule\n",
      "\\end{tabular}\n",
      "\n"
     ]
    }
   ],
   "source": [
    "import pandas as pd\n",
    "\n",
    "classifiers = [f1, f2, f3, f4, f5]\n",
    "\n",
    "labels = [\"Original\", \"T=0.8\", \"T=[0,0.8]\", \"T=2\", \"T=[1,2]\"]\n",
    "\n",
    "collect = {}\n",
    "for i, f in enumerate(classifiers):\n",
    "    collect[f\"f{i+1}: {labels[i]}\"] = apply_metrics(y_correct, f)\n",
    "    collect[f\"f{i+1}: {labels[i]}\"][\"ECE eqr\"] = metric.compute(references=y_correct, predictions=f, detail=False)[\n",
    "        \"ECE\"\n",
    "    ]\n",
    "    # T-scale f -> all monotonic should end up the same\n",
    "\n",
    "collect[f\"T opt\"] = apply_metrics(y_correct, scaled_f)\n",
    "\n",
    "\n",
    "df = pd.DataFrame(collect)\n",
    "# to latex\n",
    "print(df.to_latex(index=True))"
   ]
  },
  {
   "attachments": {},
   "cell_type": "markdown",
   "metadata": {},
   "source": [
    "## Risk-coverage curves\n"
   ]
  },
  {
   "cell_type": "code",
   "execution_count": 20,
   "metadata": {},
   "outputs": [
    {
     "name": "stdout",
     "output_type": "stream",
     "text": [
      "          Original     T=0.8  T=[0,0.8]       T=2   T=[1,2]\n",
      "1.000000  0.500000  0.500000   0.500000  0.500000  0.500000\n",
      "0.833333  0.600000  0.600000   0.600000  0.600000  0.600000\n",
      "0.500000  0.666667  0.666667   0.666667  0.666667  0.333333\n",
      "0.333333  0.500000  0.500000   1.000000  0.500000  0.500000\n",
      "0.000000  0.500000       NaN        NaN  0.500000       NaN\n"
     ]
    },
    {
     "data": {
      "application/vnd.plotly.v1+json": {
       "config": {
        "plotlyServerURL": "https://plot.ly"
       },
       "data": [
        {
         "hovertemplate": "variable=Original<br>index=%{x}<br>value=%{y}<extra></extra>",
         "legendgroup": "Original",
         "line": {
          "color": "#636efa",
          "dash": "solid"
         },
         "marker": {
          "symbol": "circle"
         },
         "mode": "lines",
         "name": "Original",
         "orientation": "v",
         "showlegend": true,
         "type": "scatter",
         "x": [
          1,
          0.8333333333333334,
          0.5,
          0.3333333333333333,
          0
         ],
         "xaxis": "x",
         "y": [
          0.5,
          0.6,
          0.6666666666666666,
          0.5,
          0.5
         ],
         "yaxis": "y"
        },
        {
         "hovertemplate": "variable=T=0.8<br>index=%{x}<br>value=%{y}<extra></extra>",
         "legendgroup": "T=0.8",
         "line": {
          "color": "#EF553B",
          "dash": "solid"
         },
         "marker": {
          "symbol": "circle"
         },
         "mode": "lines",
         "name": "T=0.8",
         "orientation": "v",
         "showlegend": true,
         "type": "scatter",
         "x": [
          1,
          0.8333333333333334,
          0.5,
          0.3333333333333333,
          0
         ],
         "xaxis": "x",
         "y": [
          0.5,
          0.6,
          0.6666666666666666,
          0.5,
          null
         ],
         "yaxis": "y"
        },
        {
         "hovertemplate": "variable=T=[0,0.8]<br>index=%{x}<br>value=%{y}<extra></extra>",
         "legendgroup": "T=[0,0.8]",
         "line": {
          "color": "#00cc96",
          "dash": "solid"
         },
         "marker": {
          "symbol": "circle"
         },
         "mode": "lines",
         "name": "T=[0,0.8]",
         "orientation": "v",
         "showlegend": true,
         "type": "scatter",
         "x": [
          1,
          0.8333333333333334,
          0.5,
          0.3333333333333333,
          0
         ],
         "xaxis": "x",
         "y": [
          0.5,
          0.6,
          0.6666666666666666,
          1,
          null
         ],
         "yaxis": "y"
        },
        {
         "hovertemplate": "variable=T=2<br>index=%{x}<br>value=%{y}<extra></extra>",
         "legendgroup": "T=2",
         "line": {
          "color": "#ab63fa",
          "dash": "solid"
         },
         "marker": {
          "symbol": "circle"
         },
         "mode": "lines",
         "name": "T=2",
         "orientation": "v",
         "showlegend": true,
         "type": "scatter",
         "x": [
          1,
          0.8333333333333334,
          0.5,
          0.3333333333333333,
          0
         ],
         "xaxis": "x",
         "y": [
          0.5,
          0.6,
          0.6666666666666666,
          0.5,
          0.5
         ],
         "yaxis": "y"
        },
        {
         "hovertemplate": "variable=T=[1,2]<br>index=%{x}<br>value=%{y}<extra></extra>",
         "legendgroup": "T=[1,2]",
         "line": {
          "color": "#FFA15A",
          "dash": "solid"
         },
         "marker": {
          "symbol": "circle"
         },
         "mode": "lines",
         "name": "T=[1,2]",
         "orientation": "v",
         "showlegend": true,
         "type": "scatter",
         "x": [
          1,
          0.8333333333333334,
          0.5,
          0.3333333333333333,
          0
         ],
         "xaxis": "x",
         "y": [
          0.5,
          0.6,
          0.3333333333333333,
          0.5,
          null
         ],
         "yaxis": "y"
        }
       ],
       "layout": {
        "legend": {
         "title": {
          "text": "variable"
         },
         "tracegroupgap": 0
        },
        "margin": {
         "t": 60
        },
        "template": {
         "data": {
          "bar": [
           {
            "error_x": {
             "color": "#2a3f5f"
            },
            "error_y": {
             "color": "#2a3f5f"
            },
            "marker": {
             "line": {
              "color": "#E5ECF6",
              "width": 0.5
             },
             "pattern": {
              "fillmode": "overlay",
              "size": 10,
              "solidity": 0.2
             }
            },
            "type": "bar"
           }
          ],
          "barpolar": [
           {
            "marker": {
             "line": {
              "color": "#E5ECF6",
              "width": 0.5
             },
             "pattern": {
              "fillmode": "overlay",
              "size": 10,
              "solidity": 0.2
             }
            },
            "type": "barpolar"
           }
          ],
          "carpet": [
           {
            "aaxis": {
             "endlinecolor": "#2a3f5f",
             "gridcolor": "white",
             "linecolor": "white",
             "minorgridcolor": "white",
             "startlinecolor": "#2a3f5f"
            },
            "baxis": {
             "endlinecolor": "#2a3f5f",
             "gridcolor": "white",
             "linecolor": "white",
             "minorgridcolor": "white",
             "startlinecolor": "#2a3f5f"
            },
            "type": "carpet"
           }
          ],
          "choropleth": [
           {
            "colorbar": {
             "outlinewidth": 0,
             "ticks": ""
            },
            "type": "choropleth"
           }
          ],
          "contour": [
           {
            "colorbar": {
             "outlinewidth": 0,
             "ticks": ""
            },
            "colorscale": [
             [
              0,
              "#0d0887"
             ],
             [
              0.1111111111111111,
              "#46039f"
             ],
             [
              0.2222222222222222,
              "#7201a8"
             ],
             [
              0.3333333333333333,
              "#9c179e"
             ],
             [
              0.4444444444444444,
              "#bd3786"
             ],
             [
              0.5555555555555556,
              "#d8576b"
             ],
             [
              0.6666666666666666,
              "#ed7953"
             ],
             [
              0.7777777777777778,
              "#fb9f3a"
             ],
             [
              0.8888888888888888,
              "#fdca26"
             ],
             [
              1,
              "#f0f921"
             ]
            ],
            "type": "contour"
           }
          ],
          "contourcarpet": [
           {
            "colorbar": {
             "outlinewidth": 0,
             "ticks": ""
            },
            "type": "contourcarpet"
           }
          ],
          "heatmap": [
           {
            "colorbar": {
             "outlinewidth": 0,
             "ticks": ""
            },
            "colorscale": [
             [
              0,
              "#0d0887"
             ],
             [
              0.1111111111111111,
              "#46039f"
             ],
             [
              0.2222222222222222,
              "#7201a8"
             ],
             [
              0.3333333333333333,
              "#9c179e"
             ],
             [
              0.4444444444444444,
              "#bd3786"
             ],
             [
              0.5555555555555556,
              "#d8576b"
             ],
             [
              0.6666666666666666,
              "#ed7953"
             ],
             [
              0.7777777777777778,
              "#fb9f3a"
             ],
             [
              0.8888888888888888,
              "#fdca26"
             ],
             [
              1,
              "#f0f921"
             ]
            ],
            "type": "heatmap"
           }
          ],
          "heatmapgl": [
           {
            "colorbar": {
             "outlinewidth": 0,
             "ticks": ""
            },
            "colorscale": [
             [
              0,
              "#0d0887"
             ],
             [
              0.1111111111111111,
              "#46039f"
             ],
             [
              0.2222222222222222,
              "#7201a8"
             ],
             [
              0.3333333333333333,
              "#9c179e"
             ],
             [
              0.4444444444444444,
              "#bd3786"
             ],
             [
              0.5555555555555556,
              "#d8576b"
             ],
             [
              0.6666666666666666,
              "#ed7953"
             ],
             [
              0.7777777777777778,
              "#fb9f3a"
             ],
             [
              0.8888888888888888,
              "#fdca26"
             ],
             [
              1,
              "#f0f921"
             ]
            ],
            "type": "heatmapgl"
           }
          ],
          "histogram": [
           {
            "marker": {
             "pattern": {
              "fillmode": "overlay",
              "size": 10,
              "solidity": 0.2
             }
            },
            "type": "histogram"
           }
          ],
          "histogram2d": [
           {
            "colorbar": {
             "outlinewidth": 0,
             "ticks": ""
            },
            "colorscale": [
             [
              0,
              "#0d0887"
             ],
             [
              0.1111111111111111,
              "#46039f"
             ],
             [
              0.2222222222222222,
              "#7201a8"
             ],
             [
              0.3333333333333333,
              "#9c179e"
             ],
             [
              0.4444444444444444,
              "#bd3786"
             ],
             [
              0.5555555555555556,
              "#d8576b"
             ],
             [
              0.6666666666666666,
              "#ed7953"
             ],
             [
              0.7777777777777778,
              "#fb9f3a"
             ],
             [
              0.8888888888888888,
              "#fdca26"
             ],
             [
              1,
              "#f0f921"
             ]
            ],
            "type": "histogram2d"
           }
          ],
          "histogram2dcontour": [
           {
            "colorbar": {
             "outlinewidth": 0,
             "ticks": ""
            },
            "colorscale": [
             [
              0,
              "#0d0887"
             ],
             [
              0.1111111111111111,
              "#46039f"
             ],
             [
              0.2222222222222222,
              "#7201a8"
             ],
             [
              0.3333333333333333,
              "#9c179e"
             ],
             [
              0.4444444444444444,
              "#bd3786"
             ],
             [
              0.5555555555555556,
              "#d8576b"
             ],
             [
              0.6666666666666666,
              "#ed7953"
             ],
             [
              0.7777777777777778,
              "#fb9f3a"
             ],
             [
              0.8888888888888888,
              "#fdca26"
             ],
             [
              1,
              "#f0f921"
             ]
            ],
            "type": "histogram2dcontour"
           }
          ],
          "mesh3d": [
           {
            "colorbar": {
             "outlinewidth": 0,
             "ticks": ""
            },
            "type": "mesh3d"
           }
          ],
          "parcoords": [
           {
            "line": {
             "colorbar": {
              "outlinewidth": 0,
              "ticks": ""
             }
            },
            "type": "parcoords"
           }
          ],
          "pie": [
           {
            "automargin": true,
            "type": "pie"
           }
          ],
          "scatter": [
           {
            "fillpattern": {
             "fillmode": "overlay",
             "size": 10,
             "solidity": 0.2
            },
            "type": "scatter"
           }
          ],
          "scatter3d": [
           {
            "line": {
             "colorbar": {
              "outlinewidth": 0,
              "ticks": ""
             }
            },
            "marker": {
             "colorbar": {
              "outlinewidth": 0,
              "ticks": ""
             }
            },
            "type": "scatter3d"
           }
          ],
          "scattercarpet": [
           {
            "marker": {
             "colorbar": {
              "outlinewidth": 0,
              "ticks": ""
             }
            },
            "type": "scattercarpet"
           }
          ],
          "scattergeo": [
           {
            "marker": {
             "colorbar": {
              "outlinewidth": 0,
              "ticks": ""
             }
            },
            "type": "scattergeo"
           }
          ],
          "scattergl": [
           {
            "marker": {
             "colorbar": {
              "outlinewidth": 0,
              "ticks": ""
             }
            },
            "type": "scattergl"
           }
          ],
          "scattermapbox": [
           {
            "marker": {
             "colorbar": {
              "outlinewidth": 0,
              "ticks": ""
             }
            },
            "type": "scattermapbox"
           }
          ],
          "scatterpolar": [
           {
            "marker": {
             "colorbar": {
              "outlinewidth": 0,
              "ticks": ""
             }
            },
            "type": "scatterpolar"
           }
          ],
          "scatterpolargl": [
           {
            "marker": {
             "colorbar": {
              "outlinewidth": 0,
              "ticks": ""
             }
            },
            "type": "scatterpolargl"
           }
          ],
          "scatterternary": [
           {
            "marker": {
             "colorbar": {
              "outlinewidth": 0,
              "ticks": ""
             }
            },
            "type": "scatterternary"
           }
          ],
          "surface": [
           {
            "colorbar": {
             "outlinewidth": 0,
             "ticks": ""
            },
            "colorscale": [
             [
              0,
              "#0d0887"
             ],
             [
              0.1111111111111111,
              "#46039f"
             ],
             [
              0.2222222222222222,
              "#7201a8"
             ],
             [
              0.3333333333333333,
              "#9c179e"
             ],
             [
              0.4444444444444444,
              "#bd3786"
             ],
             [
              0.5555555555555556,
              "#d8576b"
             ],
             [
              0.6666666666666666,
              "#ed7953"
             ],
             [
              0.7777777777777778,
              "#fb9f3a"
             ],
             [
              0.8888888888888888,
              "#fdca26"
             ],
             [
              1,
              "#f0f921"
             ]
            ],
            "type": "surface"
           }
          ],
          "table": [
           {
            "cells": {
             "fill": {
              "color": "#EBF0F8"
             },
             "line": {
              "color": "white"
             }
            },
            "header": {
             "fill": {
              "color": "#C8D4E3"
             },
             "line": {
              "color": "white"
             }
            },
            "type": "table"
           }
          ]
         },
         "layout": {
          "annotationdefaults": {
           "arrowcolor": "#2a3f5f",
           "arrowhead": 0,
           "arrowwidth": 1
          },
          "autotypenumbers": "strict",
          "coloraxis": {
           "colorbar": {
            "outlinewidth": 0,
            "ticks": ""
           }
          },
          "colorscale": {
           "diverging": [
            [
             0,
             "#8e0152"
            ],
            [
             0.1,
             "#c51b7d"
            ],
            [
             0.2,
             "#de77ae"
            ],
            [
             0.3,
             "#f1b6da"
            ],
            [
             0.4,
             "#fde0ef"
            ],
            [
             0.5,
             "#f7f7f7"
            ],
            [
             0.6,
             "#e6f5d0"
            ],
            [
             0.7,
             "#b8e186"
            ],
            [
             0.8,
             "#7fbc41"
            ],
            [
             0.9,
             "#4d9221"
            ],
            [
             1,
             "#276419"
            ]
           ],
           "sequential": [
            [
             0,
             "#0d0887"
            ],
            [
             0.1111111111111111,
             "#46039f"
            ],
            [
             0.2222222222222222,
             "#7201a8"
            ],
            [
             0.3333333333333333,
             "#9c179e"
            ],
            [
             0.4444444444444444,
             "#bd3786"
            ],
            [
             0.5555555555555556,
             "#d8576b"
            ],
            [
             0.6666666666666666,
             "#ed7953"
            ],
            [
             0.7777777777777778,
             "#fb9f3a"
            ],
            [
             0.8888888888888888,
             "#fdca26"
            ],
            [
             1,
             "#f0f921"
            ]
           ],
           "sequentialminus": [
            [
             0,
             "#0d0887"
            ],
            [
             0.1111111111111111,
             "#46039f"
            ],
            [
             0.2222222222222222,
             "#7201a8"
            ],
            [
             0.3333333333333333,
             "#9c179e"
            ],
            [
             0.4444444444444444,
             "#bd3786"
            ],
            [
             0.5555555555555556,
             "#d8576b"
            ],
            [
             0.6666666666666666,
             "#ed7953"
            ],
            [
             0.7777777777777778,
             "#fb9f3a"
            ],
            [
             0.8888888888888888,
             "#fdca26"
            ],
            [
             1,
             "#f0f921"
            ]
           ]
          },
          "colorway": [
           "#636efa",
           "#EF553B",
           "#00cc96",
           "#ab63fa",
           "#FFA15A",
           "#19d3f3",
           "#FF6692",
           "#B6E880",
           "#FF97FF",
           "#FECB52"
          ],
          "font": {
           "color": "#2a3f5f"
          },
          "geo": {
           "bgcolor": "white",
           "lakecolor": "white",
           "landcolor": "#E5ECF6",
           "showlakes": true,
           "showland": true,
           "subunitcolor": "white"
          },
          "hoverlabel": {
           "align": "left"
          },
          "hovermode": "closest",
          "mapbox": {
           "style": "light"
          },
          "paper_bgcolor": "white",
          "plot_bgcolor": "#E5ECF6",
          "polar": {
           "angularaxis": {
            "gridcolor": "white",
            "linecolor": "white",
            "ticks": ""
           },
           "bgcolor": "#E5ECF6",
           "radialaxis": {
            "gridcolor": "white",
            "linecolor": "white",
            "ticks": ""
           }
          },
          "scene": {
           "xaxis": {
            "backgroundcolor": "#E5ECF6",
            "gridcolor": "white",
            "gridwidth": 2,
            "linecolor": "white",
            "showbackground": true,
            "ticks": "",
            "zerolinecolor": "white"
           },
           "yaxis": {
            "backgroundcolor": "#E5ECF6",
            "gridcolor": "white",
            "gridwidth": 2,
            "linecolor": "white",
            "showbackground": true,
            "ticks": "",
            "zerolinecolor": "white"
           },
           "zaxis": {
            "backgroundcolor": "#E5ECF6",
            "gridcolor": "white",
            "gridwidth": 2,
            "linecolor": "white",
            "showbackground": true,
            "ticks": "",
            "zerolinecolor": "white"
           }
          },
          "shapedefaults": {
           "line": {
            "color": "#2a3f5f"
           }
          },
          "ternary": {
           "aaxis": {
            "gridcolor": "white",
            "linecolor": "white",
            "ticks": ""
           },
           "baxis": {
            "gridcolor": "white",
            "linecolor": "white",
            "ticks": ""
           },
           "bgcolor": "#E5ECF6",
           "caxis": {
            "gridcolor": "white",
            "linecolor": "white",
            "ticks": ""
           }
          },
          "title": {
           "x": 0.05
          },
          "xaxis": {
           "automargin": true,
           "gridcolor": "white",
           "linecolor": "white",
           "ticks": "",
           "title": {
            "standoff": 15
           },
           "zerolinecolor": "white",
           "zerolinewidth": 2
          },
          "yaxis": {
           "automargin": true,
           "gridcolor": "white",
           "linecolor": "white",
           "ticks": "",
           "title": {
            "standoff": 15
           },
           "zerolinecolor": "white",
           "zerolinewidth": 2
          }
         }
        },
        "xaxis": {
         "anchor": "y",
         "domain": [
          0,
          1
         ],
         "title": {
          "text": "index"
         }
        },
        "yaxis": {
         "anchor": "x",
         "domain": [
          0,
          1
         ],
         "title": {
          "text": "value"
         }
        }
       }
      }
     },
     "metadata": {},
     "output_type": "display_data"
    }
   ],
   "source": [
    "from metrics import aurc_logits, multi_aurc_plot\n",
    "\n",
    "aurcs = []\n",
    "caches = []\n",
    "for i, f in enumerate(classifiers):\n",
    "    res = aurc_logits(y_correct, f, plot=False, get_cache=True)\n",
    "    aurc, cache = res['aurc'], res['cache']\n",
    "    aurcs.append(aurc)\n",
    "    caches.append(cache)\n",
    "    \n",
    "multi_aurc_plot(caches, labels)"
   ]
  },
  {
   "cell_type": "code",
   "execution_count": null,
   "metadata": {},
   "outputs": [
    {
     "data": {
      "text/html": [
       "<div>\n",
       "<style scoped>\n",
       "    .dataframe tbody tr th:only-of-type {\n",
       "        vertical-align: middle;\n",
       "    }\n",
       "\n",
       "    .dataframe tbody tr th {\n",
       "        vertical-align: top;\n",
       "    }\n",
       "\n",
       "    .dataframe thead th {\n",
       "        text-align: right;\n",
       "    }\n",
       "</style>\n",
       "<table border=\"1\" class=\"dataframe\">\n",
       "  <thead>\n",
       "    <tr style=\"text-align: right;\">\n",
       "      <th></th>\n",
       "      <th>f0</th>\n",
       "      <th>f1</th>\n",
       "      <th>f2</th>\n",
       "      <th>f3</th>\n",
       "      <th>f4</th>\n",
       "    </tr>\n",
       "  </thead>\n",
       "  <tbody>\n",
       "    <tr>\n",
       "      <th>accuracy</th>\n",
       "      <td>0.500000</td>\n",
       "      <td>0.500000</td>\n",
       "      <td>0.500000</td>\n",
       "      <td>0.500000</td>\n",
       "      <td>0.500000</td>\n",
       "    </tr>\n",
       "    <tr>\n",
       "      <th>brier_loss</th>\n",
       "      <td>0.733333</td>\n",
       "      <td>0.701493</td>\n",
       "      <td>0.712969</td>\n",
       "      <td>0.868646</td>\n",
       "      <td>0.855173</td>\n",
       "    </tr>\n",
       "    <tr>\n",
       "      <th>nll</th>\n",
       "      <td>6.503033</td>\n",
       "      <td>4.431991</td>\n",
       "      <td>3.227383</td>\n",
       "      <td>6.785734</td>\n",
       "      <td>6.789682</td>\n",
       "    </tr>\n",
       "    <tr>\n",
       "      <th>f1_micro</th>\n",
       "      <td>0.500000</td>\n",
       "      <td>0.500000</td>\n",
       "      <td>0.500000</td>\n",
       "      <td>0.500000</td>\n",
       "      <td>0.500000</td>\n",
       "    </tr>\n",
       "    <tr>\n",
       "      <th>f1_macro</th>\n",
       "      <td>0.541667</td>\n",
       "      <td>0.541667</td>\n",
       "      <td>0.541667</td>\n",
       "      <td>0.541667</td>\n",
       "      <td>0.541667</td>\n",
       "    </tr>\n",
       "    <tr>\n",
       "      <th>ece</th>\n",
       "      <td>0.400000</td>\n",
       "      <td>0.374696</td>\n",
       "      <td>0.408064</td>\n",
       "      <td>0.470121</td>\n",
       "      <td>0.516319</td>\n",
       "    </tr>\n",
       "  </tbody>\n",
       "</table>\n",
       "</div>"
      ],
      "text/plain": [
       "                  f0        f1        f2        f3        f4\n",
       "accuracy    0.500000  0.500000  0.500000  0.500000  0.500000\n",
       "brier_loss  0.733333  0.701493  0.712969  0.868646  0.855173\n",
       "nll         6.503033  4.431991  3.227383  6.785734  6.789682\n",
       "f1_micro    0.500000  0.500000  0.500000  0.500000  0.500000\n",
       "f1_macro    0.541667  0.541667  0.541667  0.541667  0.541667\n",
       "ece         0.400000  0.374696  0.408064  0.470121  0.516319"
      ]
     },
     "execution_count": 77,
     "metadata": {},
     "output_type": "execute_result"
    }
   ],
   "source": [
    "df"
   ]
  },
  {
   "cell_type": "code",
   "execution_count": null,
   "metadata": {},
   "outputs": [],
   "source": []
  }
 ],
 "metadata": {
  "kernelspec": {
   "display_name": "SOTA",
   "language": "python",
   "name": "python3"
  },
  "language_info": {
   "codemirror_mode": {
    "name": "ipython",
    "version": 3
   },
   "file_extension": ".py",
   "mimetype": "text/x-python",
   "name": "python",
   "nbconvert_exporter": "python",
   "pygments_lexer": "ipython3",
   "version": "3.8.10"
  },
  "orig_nbformat": 4
 },
 "nbformat": 4,
 "nbformat_minor": 2
}
