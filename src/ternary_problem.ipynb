{
 "cells": [
  {
   "attachments": {},
   "cell_type": "markdown",
   "metadata": {},
   "source": [
    "# Intuition on calibration"
   ]
  },
  {
   "cell_type": "code",
   "execution_count": 1,
   "metadata": {},
   "outputs": [
    {
     "name": "stdout",
     "output_type": "stream",
     "text": [
      "Collecting pycalib\n",
      "  Downloading pycalib-0.1.0.dev5.tar.gz (32 kB)\n",
      "Collecting numpy>=1.22\n",
      "  Downloading numpy-1.24.3-cp38-cp38-manylinux_2_17_x86_64.manylinux2014_x86_64.whl (17.3 MB)\n",
      "\u001b[K     |████████████████████████████████| 17.3 MB 6.0 MB/s eta 0:00:01\n",
      "\u001b[?25hRequirement already satisfied: scipy>=1.6 in /home/jordy/.virtualenvs/SOTA/lib/python3.8/site-packages (from pycalib) (1.10.0)\n",
      "Requirement already satisfied: scikit-learn>=0.24 in /home/jordy/.virtualenvs/SOTA/lib/python3.8/site-packages (from pycalib) (0.24.2)\n",
      "Requirement already satisfied: matplotlib>=3.3 in /home/jordy/.virtualenvs/SOTA/lib/python3.8/site-packages (from pycalib) (3.7.1)\n",
      "Collecting statsmodels>=0.12\n",
      "  Downloading statsmodels-0.14.0-cp38-cp38-manylinux_2_17_x86_64.manylinux2014_x86_64.whl (10.2 MB)\n",
      "\u001b[K     |████████████████████████████████| 10.2 MB 18.2 MB/s eta 0:00:01\n",
      "\u001b[?25hRequirement already satisfied: cycler>=0.10 in /home/jordy/.virtualenvs/SOTA/lib/python3.8/site-packages (from matplotlib>=3.3->pycalib) (0.10.0)\n",
      "Requirement already satisfied: kiwisolver>=1.0.1 in /home/jordy/.virtualenvs/SOTA/lib/python3.8/site-packages (from matplotlib>=3.3->pycalib) (1.3.1)\n",
      "Requirement already satisfied: pillow>=6.2.0 in /home/jordy/.virtualenvs/SOTA/lib/python3.8/site-packages (from matplotlib>=3.3->pycalib) (9.4.0)\n",
      "Requirement already satisfied: importlib-resources>=3.2.0 in /home/jordy/.virtualenvs/SOTA/lib/python3.8/site-packages (from matplotlib>=3.3->pycalib) (5.1.2)\n",
      "Requirement already satisfied: contourpy>=1.0.1 in /home/jordy/.virtualenvs/SOTA/lib/python3.8/site-packages (from matplotlib>=3.3->pycalib) (1.0.7)\n",
      "Requirement already satisfied: python-dateutil>=2.7 in /home/jordy/.virtualenvs/SOTA/lib/python3.8/site-packages (from matplotlib>=3.3->pycalib) (2.8.1)\n",
      "Requirement already satisfied: pyparsing>=2.3.1 in /home/jordy/.virtualenvs/SOTA/lib/python3.8/site-packages (from matplotlib>=3.3->pycalib) (2.4.7)\n",
      "Requirement already satisfied: fonttools>=4.22.0 in /home/jordy/.virtualenvs/SOTA/lib/python3.8/site-packages (from matplotlib>=3.3->pycalib) (4.39.3)\n",
      "Requirement already satisfied: packaging>=20.0 in /home/jordy/.virtualenvs/SOTA/lib/python3.8/site-packages (from matplotlib>=3.3->pycalib) (23.0)\n",
      "Requirement already satisfied: six in /home/jordy/.virtualenvs/SOTA/lib/python3.8/site-packages (from cycler>=0.10->matplotlib>=3.3->pycalib) (1.15.0)\n",
      "Requirement already satisfied: joblib>=0.11 in /home/jordy/.virtualenvs/SOTA/lib/python3.8/site-packages (from scikit-learn>=0.24->pycalib) (1.0.1)\n",
      "Requirement already satisfied: threadpoolctl>=2.0.0 in /home/jordy/.virtualenvs/SOTA/lib/python3.8/site-packages (from scikit-learn>=0.24->pycalib) (2.1.0)\n",
      "Collecting patsy>=0.5.2\n",
      "  Downloading patsy-0.5.3-py2.py3-none-any.whl (233 kB)\n",
      "\u001b[K     |████████████████████████████████| 233 kB 15.5 MB/s eta 0:00:01\n",
      "\u001b[?25hRequirement already satisfied: pandas>=1.0 in /home/jordy/.virtualenvs/SOTA/lib/python3.8/site-packages (from statsmodels>=0.12->pycalib) (1.2.4)\n",
      "Requirement already satisfied: pytz>=2017.3 in /home/jordy/.virtualenvs/SOTA/lib/python3.8/site-packages (from pandas>=1.0->statsmodels>=0.12->pycalib) (2021.1)\n",
      "Building wheels for collected packages: pycalib\n",
      "  Building wheel for pycalib (setup.py) ... \u001b[?25ldone\n",
      "\u001b[?25h  Created wheel for pycalib: filename=pycalib-0.1.0.dev5-py3-none-any.whl size=34605 sha256=aaf6053529161740f6b882c405d77eb0984ff4df3521fc1eddb381dc514649ed\n",
      "  Stored in directory: /home/jordy/.cache/pip/wheels/12/e6/9d/2238b5254040378a490da17d6fa7e52cf421330185f3e5c6dc\n",
      "Successfully built pycalib\n",
      "Installing collected packages: numpy, patsy, statsmodels, pycalib\n",
      "  Attempting uninstall: numpy\n",
      "    Found existing installation: numpy 1.21.0\n",
      "    Uninstalling numpy-1.21.0:\n",
      "      Successfully uninstalled numpy-1.21.0\n",
      "\u001b[31mERROR: pip's dependency resolver does not currently take into account all the packages that are installed. This behaviour is the source of the following dependency conflicts.\n",
      "tf-nightly 2.7.0.dev20210727 requires absl-py~=0.10, but you have absl-py 1.4.0 which is incompatible.\n",
      "tf-nightly 2.7.0.dev20210727 requires flatbuffers~=1.12.0, but you have flatbuffers 23.1.21 which is incompatible.\n",
      "tf-nightly 2.7.0.dev20210727 requires gast==0.4.0, but you have gast 0.3.3 which is incompatible.\n",
      "tf-nightly 2.7.0.dev20210727 requires grpcio<2.0,>=1.37.0, but you have grpcio 1.32.0 which is incompatible.\n",
      "tf-nightly 2.7.0.dev20210727 requires h5py~=3.1.0, but you have h5py 2.10.0 which is incompatible.\n",
      "tf-nightly 2.7.0.dev20210727 requires libclang~=11.1.0, but you have libclang 15.0.6.1 which is incompatible.\n",
      "tf-nightly 2.7.0.dev20210727 requires numpy~=1.19.2, but you have numpy 1.24.3 which is incompatible.\n",
      "tf-nightly 2.7.0.dev20210727 requires typing-extensions~=3.7.4, but you have typing-extensions 4.5.0 which is incompatible.\n",
      "tensorflow 2.4.1 requires absl-py~=0.10, but you have absl-py 1.4.0 which is incompatible.\n",
      "tensorflow 2.4.1 requires flatbuffers~=1.12.0, but you have flatbuffers 23.1.21 which is incompatible.\n",
      "tensorflow 2.4.1 requires numpy~=1.19.2, but you have numpy 1.24.3 which is incompatible.\n",
      "tensorflow 2.4.1 requires tensorflow-estimator<2.5.0,>=2.4.0, but you have tensorflow-estimator 2.11.0 which is incompatible.\n",
      "tensorflow 2.4.1 requires typing-extensions~=3.7.4, but you have typing-extensions 4.5.0 which is incompatible.\n",
      "streamlit 0.84.1 requires click<8.0,>=7.0, but you have click 8.1.3 which is incompatible.\u001b[0m\n",
      "Successfully installed numpy-1.24.3 patsy-0.5.3 pycalib-0.1.0.dev5 statsmodels-0.14.0\n",
      "\u001b[33mWARNING: You are using pip version 21.0.1; however, version 23.1.2 is available.\n",
      "You should consider upgrading via the '/home/jordy/.virtualenvs/SOTA/bin/python -m pip install --upgrade pip' command.\u001b[0m\n"
     ]
    }
   ],
   "source": [
    "# First lets check a ternary problem\n",
    "! pip install pycalib"
   ]
  },
  {
   "cell_type": "code",
   "execution_count": 4,
   "metadata": {},
   "outputs": [
    {
     "name": "stdout",
     "output_type": "stream",
     "text": [
      "\n",
      "====================================================\n",
      "Scatter plot of ternary problem in the simplex space\n",
      "====================================================\n",
      "\n",
      "This example illustrates how to draw samples from the scores of a model and\n",
      "their true label.\n",
      "\n"
     ]
    },
    {
     "data": {
      "image/png": "[encoded data removed]",
      "text/plain": [
       "<Figure size 432x288 with 1 Axes>"
      ]
     },
     "metadata": {
      "needs_background": "light"
     },
     "output_type": "display_data"
    },
    {
     "data": {
      "image/png": "[encoded data removed]",
      "text/plain": [
       "<Figure size 432x288 with 1 Axes>"
      ]
     },
     "metadata": {
      "needs_background": "light"
     },
     "output_type": "display_data"
    }
   ],
   "source": [
    "\"\"\"\n",
    "====================================================\n",
    "Scatter plot of ternary problem in the simplex space\n",
    "====================================================\n",
    "\n",
    "This example illustrates how to draw samples from the scores of a model and\n",
    "their true label.\n",
    "\"\"\"\n",
    "# Author: Miquel Perello Nieto <miquel.perellonieto@bristol.ac.uk>\n",
    "# License: new BSD\n",
    "## updated by Jordy Van Landeghem <first@contract.fit>\n",
    "\n",
    "from matplotlib import pyplot as plt\n",
    "print(__doc__)\n",
    "SAVEFIGS=True\n",
    "\n",
    "%matplotlib inline\n",
    "import matplotlib.pyplot as plt\n",
    "import numpy as np\n",
    "import matplotlib as mpl\n",
    "mpl.rcParams['font.size'] = 14.0\n",
    "#mpl.rcParams['font.family'] = 'serif'\n",
    "#mpl.rcParams['font.serif'] = 'Times New Roman'\n",
    "#mpl.rcParams['text.usetex'] = False\n",
    "# mpl.rcParams['text.latex.preamble'] = r'\\usepackage{amsmath} \\usepackage{newtxmath}'\n",
    "mpl.rcParams['legend.fontsize'] = 'large'\n",
    "mpl.rcParams['figure.titlesize'] = 'large'\n",
    "mpl.rcParams['axes.titlesize'] = 'large'\n",
    "mpl.rcParams['axes.labelsize'] = 'large'\n",
    "mpl.rcParams['xtick.labelsize'] = 'large'\n",
    "mpl.rcParams['ytick.labelsize'] = 'large'\n",
    "mpl.rcParams['savefig.dpi'] = 300\n",
    "mpl.rcParams['savefig.bbox'] = 'tight'\n",
    "mpl.rcParams['savefig.pad_inches'] = 0.1\n",
    "mpl.rcParams['savefig.transparent'] = True\n",
    "#mpl.rcParams['savefig.format'] = 'pdf'\n",
    "#mpl.rcParams['savefig.frameon'] = False\n",
    "mpl.rcParams['axes.linewidth'] = 1.5\n",
    "mpl.rcParams['xtick.major.size'] = 5\n",
    "\n",
    "##############################################################################\n",
    "# We generate 3 scores as comming from 3 Dirichlet distributions simulating the\n",
    "# output scores of a classifier. Then we show how to draw the samples in the\n",
    "# simplex space.\n",
    "\n",
    "import matplotlib.pyplot as plt\n",
    "import numpy as np\n",
    "np.random.seed(42)\n",
    "\n",
    "n_c1 = n_c2 = n_c3 = 33 #balanced\n",
    "n_c1 = 10; n_c2 = 85; n_c3 = 5 #imbalanced\n",
    "p = np.concatenate((np.random.dirichlet([6, 2, 3], n_c1),\n",
    "                    np.random.dirichlet([5, 12, 5], n_c2),\n",
    "                    np.random.dirichlet([2, 3, 5], n_c3)\n",
    "                   ))\n",
    "\n",
    "# imbalanced\n",
    "p = np.concatenate((np.random.dirichlet([8, 1, 2], n_c1),\n",
    "                    np.random.dirichlet([1, 20, 1], n_c2),\n",
    "                    np.random.dirichlet([1.5, 3, 5], n_c3)\n",
    "                   ))\n",
    "\n",
    "# we could generate values such as from https://arxiv.org/pdf/2107.03342.pdf \n",
    "# a: low uncertainty (10,10, 100)\n",
    "# b: high uncertainty (50,50,50)\n",
    "#c: out-of-distribution (1.5, 1.5, 1.5)\n",
    "## desired behaviors of a Dirichlet distribution over categorical distributions.\n",
    "'''\n",
    "In (a) the sharp Dirichlet distribution\n",
    "with its expectation close to the upper node represents a\n",
    "certain prediction of a categorical distribution. In (b) the sharp\n",
    "Dirichlet distribution in the center of the simplex represents\n",
    "high data uncertainty but low distributional uncertainty. In\n",
    "(c) the flat Dirichlet distribution indicates high distributional\n",
    "uncertainty\n",
    "'''\n",
    "\n",
    "y = np.concatenate((np.zeros(n_c1), np.ones(n_c2), np.ones(n_c3)*2))\n",
    "\n",
    "from pycalib.visualisations.ternary import draw_tri_samples\n",
    "\n",
    "fig, ax = draw_tri_samples(p, classes=y, alpha=0.6)\n",
    "\n",
    "if SAVEFIGS:\n",
    "    fig.savefig('fig1.png')\n",
    "\n",
    "##############################################################################\n",
    "# Here we specify the names of each class and change their colors.\n",
    "\n",
    "fig, ax = draw_tri_samples(p, classes=y, alpha=0.6,\n",
    "                           labels=['cat', 'dog', 'fox'],\n",
    "                           color_list=['black','saddlebrown', 'darkorange'])\n",
    "\n",
    "if SAVEFIGS:\n",
    "    fig.savefig('ternary_clf.png')\n",
    "\n",
    "import pickle\n",
    "\n",
    "#dump p and y\n",
    "with open('ternary_clf.pkl', 'wb') as f:\n",
    "    pickle.dump([p,y], f)\n",
    "\n",
    "plt.show()"
   ]
  },
  {
   "cell_type": "code",
   "execution_count": 6,
   "metadata": {},
   "outputs": [
    {
     "name": "stdout",
     "output_type": "stream",
     "text": [
      "accuracy: 0.97\n",
      "confusion matrix:\n",
      " [[10  0  0]\n",
      " [ 0 85  0]\n",
      " [ 1  2  2]]\n"
     ]
    }
   ],
   "source": [
    "# accuracy of this model\n",
    "import numpy as np\n",
    "from sklearn.metrics import accuracy_score\n",
    "from sklearn.metrics import confusion_matrix\n",
    "\n",
    "y_pred = np.argmax(p, axis=1)\n",
    "print(\"accuracy:\", accuracy_score(y, y_pred))\n",
    "print(\"confusion matrix:\\n\", confusion_matrix(y, y_pred))"
   ]
  },
  {
   "cell_type": "code",
   "execution_count": 10,
   "metadata": {},
   "outputs": [
    {
     "data": {
      "image/png": "[encoded data removed]",
      "text/plain": [
       "<Figure size 432x288 with 1 Axes>"
      ]
     },
     "metadata": {
      "needs_background": "light"
     },
     "output_type": "display_data"
    }
   ],
   "source": [
    "import matplotlib.pyplot as plt\n",
    "import numpy as np\n",
    "\n",
    "\n",
    "def plot_triangle_bins_connections():\n",
    "    # Define the corners of the triangle\n",
    "    corners = np.array([[0, 0], [0.5, 1], [1, 0]])\n",
    "    corner_labels = [\"c1\", \"c2\", \"c3\"]\n",
    "\n",
    "    # Define the binning levels\n",
    "    bin_levels = [0, 0.25, 0.5, 0.75, 1]\n",
    "\n",
    "    # Plot the triangle\n",
    "    plt.figure()\n",
    "    plt.gca().set_aspect(\"equal\")\n",
    "    plt.triplot(corners[:, 0], corners[:, 1], \"k-\")\n",
    "\n",
    "    # Plot the corner labels\n",
    "    for i in range(3):\n",
    "        plt.text(\n",
    "            corners[i, 0], corners[i, 1], corner_labels[i], horizontalalignment=\"center\", verticalalignment=\"bottom\"\n",
    "        )\n",
    "\n",
    "    # Perform binning on the edges\n",
    "    bin_points = []\n",
    "    for i in range(3):\n",
    "        start = corners[i]\n",
    "        end = corners[(i + 1) % 3]\n",
    "        for level in bin_levels:\n",
    "            bin_point = start + level * (end - start)\n",
    "            bin_points.append(bin_point)\n",
    "            plt.plot([start[0], bin_point[0]], [start[1], bin_point[1]], \"r--\")\n",
    "\n",
    "    # Connect the binning lines between surfaces\n",
    "    for i in range(len(bin_points)):\n",
    "        start = bin_points[i]\n",
    "        end = bin_points[(i + 1) % len(bin_points)]\n",
    "        plt.plot([start[0], end[0]], [start[1], end[1]], \"g-\")\n",
    "\n",
    "    # Set the x and y limits\n",
    "    plt.xlim(-0.1, 1.1)\n",
    "    plt.ylim(-0.1, 1.1)\n",
    "\n",
    "    # Set the axis labels and title\n",
    "    plt.xlabel(\"X\")\n",
    "    plt.ylabel(\"Y\")\n",
    "    plt.title(\"Triangle with Binning and Connections\")\n",
    "\n",
    "    # Show the plot\n",
    "    plt.show()\n",
    "\n",
    "\n",
    "# Call the function to generate the triangle plot with binning and connections\n",
    "plot_triangle_bins_connections()"
   ]
  },
  {
   "cell_type": "code",
   "execution_count": 27,
   "metadata": {},
   "outputs": [
    {
     "data": {
      "image/png": "[encoded data removed]",
      "text/plain": [
       "<Figure size 432x288 with 1 Axes>"
      ]
     },
     "metadata": {
      "needs_background": "light"
     },
     "output_type": "display_data"
    }
   ],
   "source": [
    "import matplotlib.pyplot as plt\n",
    "import numpy as np\n",
    "\n",
    "def plot_triangle_with_bins():\n",
    "    # Define the corners of the main triangle\n",
    "    corners = np.array([[0, 0], [0.5, 1], [1, 0]])\n",
    "    corner_labels = ['c1', 'c2', 'c3']\n",
    "\n",
    "    # Define the number of bins\n",
    "    num_bins = 4\n",
    "\n",
    "    # Plot the main triangle\n",
    "    plt.figure()\n",
    "    plt.gca().set_aspect('equal')\n",
    "    plt.triplot(corners[:, 0], corners[:, 1], 'k-')metrics\n",
    "\n",
    "    # Plot the corner labels\n",
    "    for i in range(3):\n",
    "        plt.text(corners[i, 0], corners[i, 1], corner_labels[i],\n",
    "                 horizontalalignment='center', verticalalignment='bottom')\n",
    "\n",
    "    # Compute the vertices of the smaller triangles (bins)\n",
    "    bin_vertices = []\n",
    "    for i in range(1, num_bins):\n",
    "        for j in range(i):\n",
    "            start = corners[0] + (corners[1] - corners[0]) * (j / i)\n",
    "            end = corners[0] + (corners[1] - corners[0]) * ((j + 1) / i)\n",
    "            bin_vertices.append([start, end, corners[2]])\n",
    "\n",
    "    # Plot the smaller triangles (bins)\n",
    "    for vertices in bin_vertices:\n",
    "        plt.fill([vertices[0][0], vertices[1][0], vertices[2][0]],\n",
    "                 [vertices[0][1], vertices[1][1], vertices[2][1]], 'r', alpha=0.1)\n",
    "\n",
    "    # Set the x and y limits\n",
    "    plt.xlim(-0.1, 1.1)\n",
    "    plt.ylim(-0.1, 1.1)\n",
    "\n",
    "    # Set the axis labels and title\n",
    "    plt.xlabel('X')\n",
    "    plt.ylabel('Y')\n",
    "    plt.title('Triangle with Bins')\n",
    "\n",
    "    # Show the plot\n",
    "    plt.show()\n",
    "\n",
    "# Call the function to generate the triangle plot with bins\n",
    "plot_triangle_with_bins()\n"
   ]
  },
  {
   "attachments": {},
   "cell_type": "markdown",
   "metadata": {},
   "source": [
    "    FILE_PATH = sys.argv[1] if len(sys.argv) > 1 else \"resnet110_c10_logits.p\"\n",
    "    (p_val, y_val), (p_test, y_test) = unpickle_probs(FILE_PATH, False, True)"
   ]
  },
  {
   "cell_type": "code",
   "execution_count": 25,
   "metadata": {},
   "outputs": [
    {
     "name": "stdout",
     "output_type": "stream",
     "text": [
      "[[array([0., 0.]), array([0.125, 0.25 ]), array([0.25, 0.  ])], [array([0.25, 0.  ]), array([0.375, 0.25 ]), array([0.5, 0. ])], [array([0.375, 0.25 ]), array([0.5, 0.5]), array([0.625, 0.25 ])], [array([0.5, 0. ]), array([0.625, 0.25 ]), array([0.75, 0.  ])], [array([0.625, 0.25 ]), array([0.75, 0.5 ]), array([0.875, 0.25 ])], [array([0.75, 0.5 ]), array([0.875, 0.75 ]), array([1. , 0.5])], [array([0.75, 0.  ]), array([0.875, 0.25 ]), array([1., 0.])], [array([0.875, 0.25 ]), array([1. , 0.5]), array([1.125, 0.25 ])], [array([1. , 0.5]), array([1.125, 0.75 ]), array([1.25, 0.5 ])], [array([1.125, 0.75 ]), array([1.25, 1.  ]), array([1.375, 0.75 ])], [array([1., 0.]), array([1.125, 0.25 ]), array([1.25, 0.  ])], [array([1.125, 0.25 ]), array([1.25, 0.5 ]), array([1.375, 0.25 ])], [array([1.25, 0.5 ]), array([1.375, 0.75 ]), array([1.5, 0.5])], [array([1.375, 0.75 ]), array([1.5, 1. ]), array([1.625, 0.75 ])], [array([1.5, 1. ]), array([1.625, 1.25 ]), array([1.75, 1.  ])]]\n"
     ]
    },
    {
     "data": {
      "image/png": "[encoded data removed]",
      "text/plain": [
       "<Figure size 432x288 with 1 Axes>"
      ]
     },
     "metadata": {
      "needs_background": "light"
     },
     "output_type": "display_data"
    }
   ],
   "source": [
    "import matplotlib.pyplot as plt\n",
    "import numpy as np\n",
    "\n",
    "\n",
    "def split_triangle_into_bins():\n",
    "    # Define the corners of the unit triangle\n",
    "    corners = np.array([[0, 0], [0.5, 1], [1, 0]])\n",
    "\n",
    "    # Define the number of bins per side\n",
    "    num_bins = 4\n",
    "\n",
    "    # Compute the vertices of the smaller triangles (bins)\n",
    "    bin_vertices = []\n",
    "    for i in range(num_bins + 1):\n",
    "        for j in range(i + 1):\n",
    "            start = corners[0] + (corners[1] - corners[0]) * (j / num_bins) + (corners[2] - corners[0]) * (i / num_bins)\n",
    "            end1 = (\n",
    "                corners[0]\n",
    "                + (corners[1] - corners[0]) * ((j + 1) / num_bins)\n",
    "                + (corners[2] - corners[0]) * (i / num_bins)\n",
    "            )\n",
    "            end2 = (\n",
    "                corners[0]\n",
    "                + (corners[1] - corners[0]) * (j / num_bins)\n",
    "                + (corners[2] - corners[0]) * ((i + 1) / num_bins)\n",
    "            )\n",
    "            bin_vertices.append([start, end1, end2])\n",
    "\n",
    "    print(bin_vertices)\n",
    "\n",
    "    # Plot the unit triangle and smaller triangles (bins)\n",
    "    plt.figure()\n",
    "    plt.gca().set_aspect(\"equal\")\n",
    "    plt.triplot(corners[:, 0], corners[:, 1], \"k-\")\n",
    "\n",
    "    for vertices in bin_vertices:\n",
    "        plt.fill(\n",
    "            [vertices[0][0], vertices[1][0], vertices[2][0]],\n",
    "            [vertices[0][1], vertices[1][1], vertices[2][1]],\n",
    "            \"r\",\n",
    "            alpha=0.3,\n",
    "        )\n",
    "\n",
    "    # Set the x and y limits\n",
    "    plt.xlim(-0.1, 1.1)\n",
    "    plt.ylim(-0.1, 1 + 0.1)\n",
    "\n",
    "    # Set the axis labels and title\n",
    "    plt.xlabel(\"X\")\n",
    "    plt.ylabel(\"Y\")\n",
    "    plt.title(\"Unit Triangle Split into Bins\")\n",
    "\n",
    "    # Show the plot\n",
    "    plt.show()\n",
    "\n",
    "\n",
    "# Call the function to split the unit triangle into 16 bins\n",
    "split_triangle_into_bins()"
   ]
  },
  {
   "attachments": {},
   "cell_type": "markdown",
   "metadata": {},
   "source": [
    "# Confidence estimation NER\n",
    "## Marginal distribution of confidence per token"
   ]
  },
  {
   "cell_type": "code",
   "execution_count": null,
   "metadata": {},
   "outputs": [],
   "source": [
    "import torch\n",
    "import numpy as np\n",
    "from transformers import AutoTokenizer, AutoModelForTokenClassification\n",
    "\n",
    "tokenizer = AutoTokenizer.from_pretrained(\"kamalkraj/bert-base-cased-ner-conll2003\")\n",
    "model = AutoModelForTokenClassification.from_pretrained(\"kamalkraj/bert-base-cased-ner-conll2003\")\n",
    "\n",
    "sample = \"Hal Jordan was the best Green Lantern ever\".split()\n",
    "\n",
    "inputs = tokenizer.encode_plus(sample, is_split_into_words=True)\n",
    "prediction_masks = inputs.word_ids()\n",
    "\n",
    "inputs = {k: torch.tensor([v]) for k, v in inputs.items()}\n",
    "outputs = model(**inputs)\n",
    "logits = outputs.logits.detach().numpy()[0]\n",
    "word_logits = []\n",
    "words = np.unique([mask if mask is not None else -100 for mask in prediction_masks])[1:]  # skip special start token\n",
    "for word in words:  # for each word spread over multiple subwords, obtain a word confidence\n",
    "    word_idx = (prediction_masks == word).nonzero()[0]\n",
    "    word_logits.append(logits[word_idx[0]])\n",
    "word_logits = torch.Tensor(np.array(word_logits))\n",
    "marginal_distribution = torch.nn.functional.softmax(word_logits, dim=-1)  # marginal distribution\n",
    "marg_p, MAP_y = marginal_distribution.max(-1)  # posterior decoding"
   ]
  }
 ],
 "metadata": {
  "kernelspec": {
   "display_name": "SOTA",
   "language": "python",
   "name": "python3"
  },
  "language_info": {
   "codemirror_mode": {
    "name": "ipython",
    "version": 3
   },
   "file_extension": ".py",
   "mimetype": "text/x-python",
   "name": "python",
   "nbconvert_exporter": "python",
   "pygments_lexer": "ipython3",
   "version": "3.8.10"
  },
  "orig_nbformat": 4
 },
 "nbformat": 4,
 "nbformat_minor": 2
}
